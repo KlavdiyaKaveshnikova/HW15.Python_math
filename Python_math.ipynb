{
 "cells": [
  {
   "cell_type": "markdown",
   "metadata": {},
   "source": [
    "# Домашняя работа №1"
   ]
  },
  {
   "cell_type": "code",
   "execution_count": 1,
   "metadata": {},
   "outputs": [],
   "source": [
    "import numpy as np"
   ]
  },
  {
   "cell_type": "code",
   "execution_count": 27,
   "metadata": {},
   "outputs": [],
   "source": [
    "import matplotlib.pyplot as plt"
   ]
  },
  {
   "cell_type": "markdown",
   "metadata": {},
   "source": [
    "## Задание 1"
   ]
  },
  {
   "cell_type": "markdown",
   "metadata": {},
   "source": [
    "Изобразите с помощью matplotlib. Изобразите точку x + 2y + 3z. Найдите угол между векторами x, y и x, z. "
   ]
  },
  {
   "cell_type": "code",
   "execution_count": 24,
   "metadata": {},
   "outputs": [],
   "source": [
    "x = np.array([1,1])\n",
    "y = np.array([2, 0])\n",
    "z = np.array([0,2])"
   ]
  },
  {
   "cell_type": "code",
   "execution_count": 32,
   "metadata": {},
   "outputs": [
    {
     "data": {
      "text/plain": [
       "array([5, 7])"
      ]
     },
     "execution_count": 32,
     "metadata": {},
     "output_type": "execute_result"
    }
   ],
   "source": [
    "dot = x + 2*y + 3*z\n",
    "dot"
   ]
  },
  {
   "cell_type": "code",
   "execution_count": 37,
   "metadata": {
    "scrolled": false
   },
   "outputs": [
    {
     "data": {
      "image/png": "[encoded data removed]",
      "text/plain": [
       "<Figure size 432x288 with 1 Axes>"
      ]
     },
     "metadata": {
      "needs_background": "light"
     },
     "output_type": "display_data"
    }
   ],
   "source": [
    "plt.scatter(dot[0], dot[1])\n",
    "plt.grid()"
   ]
  },
  {
   "cell_type": "code",
   "execution_count": 60,
   "metadata": {},
   "outputs": [
    {
     "name": "stdout",
     "output_type": "stream",
     "text": [
      "[ 1 -1]\n",
      "[-1  1]\n"
     ]
    }
   ],
   "source": [
    "# координаты векторов\n",
    "\n",
    "XY = y-x\n",
    "XZ = z-x\n",
    "print(XY)\n",
    "print(XZ)"
   ]
  },
  {
   "cell_type": "markdown",
   "metadata": {},
   "source": [
    "**Для начала нечто топорное**"
   ]
  },
  {
   "cell_type": "code",
   "execution_count": 61,
   "metadata": {},
   "outputs": [],
   "source": [
    "# длины векторов xy и xz\n",
    "\n",
    "xy = (1+1)**0.5\n",
    "xz = (1+1)**0.5\n"
   ]
  },
  {
   "cell_type": "code",
   "execution_count": 67,
   "metadata": {},
   "outputs": [
    {
     "data": {
      "text/plain": [
       "2"
      ]
     },
     "execution_count": 67,
     "metadata": {},
     "output_type": "execute_result"
    }
   ],
   "source": [
    "# скалярное произведение векторов через координаты\n",
    "\n",
    "XY_XZ = abs((XY[0]*XZ[0]) + (XY[1]*XZ[1]))\n",
    "XY_XZ"
   ]
  },
  {
   "cell_type": "code",
   "execution_count": 68,
   "metadata": {},
   "outputs": [
    {
     "data": {
      "text/plain": [
       "1.0000000000000002"
      ]
     },
     "execution_count": 68,
     "metadata": {},
     "output_type": "execute_result"
    }
   ],
   "source": [
    "cos = xy*xz/XY_XZ\n",
    "cos\n",
    "\n",
    "# угол 0 градусов"
   ]
  },
  {
   "cell_type": "markdown",
   "metadata": {},
   "source": [
    "**Ну и поумнее**"
   ]
  },
  {
   "cell_type": "code",
   "execution_count": 52,
   "metadata": {},
   "outputs": [],
   "source": [
    "def cosine( a, b ):\n",
    "    \"\"\"\n",
    "    Подсчет косинуса угла между векторами a, b по их координатам\n",
    "    \"\"\"\n",
    "    \n",
    "    # длины векторов\n",
    "    aLength = np.linalg.norm( a )\n",
    "    bLength = np.linalg.norm( b )\n",
    "    \n",
    "    return np.dot( a, b ) / ( aLength * bLength )"
   ]
  },
  {
   "cell_type": "code",
   "execution_count": 53,
   "metadata": {},
   "outputs": [
    {
     "data": {
      "text/plain": [
       "1.0"
      ]
     },
     "execution_count": 53,
     "metadata": {},
     "output_type": "execute_result"
    }
   ],
   "source": [
    "cosine( xy, xz )"
   ]
  },
  {
   "cell_type": "code",
   "execution_count": 55,
   "metadata": {},
   "outputs": [
    {
     "data": {
      "text/plain": [
       "0.0"
      ]
     },
     "execution_count": 55,
     "metadata": {},
     "output_type": "execute_result"
    }
   ],
   "source": [
    "np.arccos( cosine( xy, xz ) ) * 360 / 2 / np.pi"
   ]
  },
  {
   "cell_type": "markdown",
   "metadata": {},
   "source": [
    "## Задание 2"
   ]
  },
  {
   "cell_type": "markdown",
   "metadata": {},
   "source": [
    "Найдите собственные значения и собственные вектора матриц (необходимо решение на numpy и решение по алгоритму на бумажке). Для матрицы 3x3 можно посмотреть на корни характеристического многочлена, посчитанные в numpy."
   ]
  },
  {
   "cell_type": "code",
   "execution_count": 2,
   "metadata": {},
   "outputs": [],
   "source": [
    "m1 = np.array([[2, 2],\n",
    "               [1, 3]])\n",
    "\n",
    "m2 = np.array([[4, 1, -1],\n",
    "               [1, 4, -1],\n",
    "               [-1, -1, 4]])"
   ]
  },
  {
   "cell_type": "code",
   "execution_count": 11,
   "metadata": {},
   "outputs": [],
   "source": [
    "w1, v1 = np.linalg.eig(m1)\n",
    "w2, v2 = np.linalg.eig(m2)"
   ]
  },
  {
   "cell_type": "code",
   "execution_count": 19,
   "metadata": {
    "scrolled": true
   },
   "outputs": [
    {
     "name": "stdout",
     "output_type": "stream",
     "text": [
      "Для матрицы m1:\n",
      "cобственное значение 1.0 и соответствующий ему собственный вектор [-0.89442719  0.4472136 ]\n",
      "cобственное значение 4.0 и соответствующий ему собственный вектор [-0.70710678 -0.70710678]\n",
      "Для матрицы m2:\n",
      "cобственное значение 2.999999999999999 и соответствующий ему собственный вектор [-0.81649658  0.40824829 -0.40824829]\n",
      "cобственное значение 5.999999999999997 и соответствующий ему собственный вектор [ 0.57735027  0.57735027 -0.57735027]\n",
      "cобственное значение 2.9999999999999996 и соответствующий ему собственный вектор [-0.27658128  0.8035929   0.52701162]\n"
     ]
    }
   ],
   "source": [
    "print(\"Для матрицы m1:\")\n",
    "for i in range(len(w1)):\n",
    "    print(\"cобственное значение \" + str(w1[i]), end = '')\n",
    "    print(\" и соответствующий ему собственный вектор \" + str(v1[:,i]))\n",
    "    \n",
    "print(\"Для матрицы m2:\")\n",
    "for i in range(len(w2)):\n",
    "    print(\"cобственное значение \" + str(w2[i]), end = '')\n",
    "    print(\" и соответствующий ему собственный вектор \" + str(v2[:,i]))"
   ]
  },
  {
   "cell_type": "markdown",
   "metadata": {},
   "source": [
    "Рассмотрим первую матрицу.\n",
    "Через формулу детерминанта, приравненного к 0, находим собственные значения (лямбда, у нас w). \n",
    "\n",
    "`(2-w)*(3-w) - 2*1 = 0`\n",
    "\n",
    "`6 - 3w - 2w + w**2 - 2 = 0`\n",
    "\n",
    "`w**2 - 5w + 4 = 0`\n",
    "\n",
    "Получается обычное квадратное уравнение, находим дискриминант и далее корни:\n",
    "\n",
    "`D = 5**2 - 4*1*4 = 25 - 16 = 9` (положительный дискриминант, значит два корня)\n",
    "1. `w1 = (5 - 3)/2 = 1`\n",
    "2. `w2 = (5 + 3)/2 = 4`\n",
    "\n",
    "Поочередно подставим собственные значения в систему уравнений и сразу же решим:\n",
    "`(2-1)x + 2y = 0` и `x + (3-1)y = 0`\n",
    "\n",
    "`x = -2y`\n",
    "\n",
    "Для собственного значения 1 - вектор `[2; -1]`.\n",
    "\n",
    "`(2-4)x + 2y = 0` и `x + (3-4)y = 0`\n",
    "\n",
    "`-2x +2y = 0` и `x - y = 0`\n",
    "\n",
    "`x = y`\n",
    "\n",
    "Для собственного значения 4 - вектор `[1; 1]`."
   ]
  },
  {
   "cell_type": "markdown",
   "metadata": {},
   "source": [
    "## Задание 3"
   ]
  },
  {
   "cell_type": "markdown",
   "metadata": {},
   "source": [
    "Найдите сингулярное разложение матрицы."
   ]
  },
  {
   "cell_type": "code",
   "execution_count": 69,
   "metadata": {},
   "outputs": [],
   "source": [
    "m3 = np.array([[1, 2],\n",
    "               [2, 3]])"
   ]
  },
  {
   "cell_type": "code",
   "execution_count": 86,
   "metadata": {},
   "outputs": [
    {
     "name": "stdout",
     "output_type": "stream",
     "text": [
      "ортогональная матрица U: \n",
      "\n",
      "[[-0.52573111 -0.85065081]\n",
      " [-0.85065081  0.52573111]]\n",
      "\n",
      " ортогональная матрица V: \n",
      "\n",
      "[[-0.52573111 -0.85065081]\n",
      " [ 0.85065081 -0.52573111]]\n",
      "\n",
      " диагональная матрица: \n",
      "\n",
      "[[4.23606798 0.        ]\n",
      " [0.         0.23606798]]\n"
     ]
    }
   ],
   "source": [
    "U, s, V = np.linalg.svd(m3)\n",
    "S = np.diag(s)\n",
    "A = U.dot(S.dot(V))\n",
    "print('ортогональная матрица U: \\n')\n",
    "print(U) \n",
    "print('\\n ортогональная матрица V: \\n')\n",
    "print(V)\n",
    "print('\\n диагональная матрица: \\n')\n",
    "print(S)"
   ]
  },
  {
   "cell_type": "code",
   "execution_count": null,
   "metadata": {},
   "outputs": [],
   "source": []
  }
 ],
 "metadata": {
  "kernelspec": {
   "display_name": "Python 3",
   "language": "python",
   "name": "python3"
  },
  "language_info": {
   "codemirror_mode": {
    "name": "ipython",
    "version": 3
   },
   "file_extension": ".py",
   "mimetype": "text/x-python",
   "name": "python",
   "nbconvert_exporter": "python",
   "pygments_lexer": "ipython3",
   "version": "3.7.6"
  }
 },
 "nbformat": 4,
 "nbformat_minor": 2
}
